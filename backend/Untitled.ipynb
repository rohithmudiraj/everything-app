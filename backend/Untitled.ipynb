{
 "cells": [
  {
   "cell_type": "code",
   "execution_count": 6,
   "id": "1cf95b73-56a9-4b3c-b253-92a6f6dec491",
   "metadata": {},
   "outputs": [
    {
     "name": "stderr",
     "output_type": "stream",
     "text": [
      "/Users/mrohi233/marriott/python_projects/mlenv/lib/python3.9/site-packages/openpyxl/styles/stylesheet.py:237: UserWarning: Workbook contains no default style, apply openpyxl's default\n",
      "  warn(\"Workbook contains no default style, apply openpyxl's default\")\n"
     ]
    }
   ],
   "source": [
    "import pandas as pd\n",
    "# Replace 'your_file.xlsx' with the path to your Excel file\n",
    "file_path = 'directory_data.xlsx'\n",
    "df = pd.read_excel(file_path)\n"
   ]
  },
  {
   "cell_type": "code",
   "execution_count": 7,
   "id": "b040c327-d135-4d31-9fe8-ad9c25659707",
   "metadata": {},
   "outputs": [
    {
     "name": "stderr",
     "output_type": "stream",
     "text": [
      "/var/folders/rp/sm11qb895w7_c9y7d3nfkxz00000gr/T/ipykernel_8688/4187804957.py:6: SettingWithCopyWarning: \n",
      "A value is trying to be set on a copy of a slice from a DataFrame\n",
      "\n",
      "See the caveats in the documentation: https://pandas.pydata.org/pandas-docs/stable/user_guide/indexing.html#returning-a-view-versus-a-copy\n",
      "  filtered_df.fillna(\"Unknown\", inplace=True)  # Fill NaN with \"Unknown\"\n"
     ]
    }
   ],
   "source": [
    "# List of columns to keep\n",
    "columns_to_keep = ['Name', 'Alias', 'Managed by','Short Description','Environment']\n",
    "\n",
    "# Filter the DataFrame to include only the specified columns\n",
    "filtered_df = df[columns_to_keep]\n",
    "filtered_df.fillna(\"Unknown\", inplace=True)  # Fill NaN with \"Unknown\""
   ]
  },
  {
   "cell_type": "code",
   "execution_count": 8,
   "id": "a7dd0381-d58c-4381-a239-81910d8e7de7",
   "metadata": {},
   "outputs": [
    {
     "name": "stdout",
     "output_type": "stream",
     "text": [
      "<class 'pandas.core.frame.DataFrame'>\n",
      "RangeIndex: 2247 entries, 0 to 2246\n",
      "Data columns (total 5 columns):\n",
      " #   Column             Non-Null Count  Dtype \n",
      "---  ------             --------------  ----- \n",
      " 0   Name               2247 non-null   object\n",
      " 1   Alias              2247 non-null   object\n",
      " 2   Managed by         2247 non-null   object\n",
      " 3   Short Description  2247 non-null   object\n",
      " 4   Environment        2247 non-null   object\n",
      "dtypes: object(5)\n",
      "memory usage: 87.9+ KB\n"
     ]
    },
    {
     "data": {
      "text/html": [
       "<div>\n",
       "<style scoped>\n",
       "    .dataframe tbody tr th:only-of-type {\n",
       "        vertical-align: middle;\n",
       "    }\n",
       "\n",
       "    .dataframe tbody tr th {\n",
       "        vertical-align: top;\n",
       "    }\n",
       "\n",
       "    .dataframe thead th {\n",
       "        text-align: right;\n",
       "    }\n",
       "</style>\n",
       "<table border=\"1\" class=\"dataframe\">\n",
       "  <thead>\n",
       "    <tr style=\"text-align: right;\">\n",
       "      <th></th>\n",
       "      <th>Name</th>\n",
       "      <th>Alias</th>\n",
       "      <th>Managed by</th>\n",
       "      <th>Short Description</th>\n",
       "      <th>Environment</th>\n",
       "    </tr>\n",
       "  </thead>\n",
       "  <tbody>\n",
       "    <tr>\n",
       "      <th>0</th>\n",
       "      <td>Fidelity Retirement Plans and Stock Administr...</td>\n",
       "      <td>Fidelity</td>\n",
       "      <td>Angela Godwin</td>\n",
       "      <td>This app is the MI Shares program for some of ...</td>\n",
       "      <td>Production</td>\n",
       "    </tr>\n",
       "    <tr>\n",
       "      <th>1</th>\n",
       "      <td>4Sight Budgeting and Forecasting Tool</td>\n",
       "      <td>Unknown</td>\n",
       "      <td>Bruce Nguyen</td>\n",
       "      <td>Unknown</td>\n",
       "      <td>Production</td>\n",
       "    </tr>\n",
       "    <tr>\n",
       "      <th>2</th>\n",
       "      <td>Above Property LAN Services</td>\n",
       "      <td>Unknown</td>\n",
       "      <td>Unknown</td>\n",
       "      <td>Add support services to above-property locatio...</td>\n",
       "      <td>Production</td>\n",
       "    </tr>\n",
       "    <tr>\n",
       "      <th>3</th>\n",
       "      <td>Accertify - Fraud and Risk</td>\n",
       "      <td>Unknown</td>\n",
       "      <td>Kathleen Ploof</td>\n",
       "      <td>Unknown</td>\n",
       "      <td>Production</td>\n",
       "    </tr>\n",
       "    <tr>\n",
       "      <th>4</th>\n",
       "      <td>Accessories/Peripherals</td>\n",
       "      <td>Accessories/Peripherals</td>\n",
       "      <td>David Sanders</td>\n",
       "      <td>LAWSOS</td>\n",
       "      <td>Production</td>\n",
       "    </tr>\n",
       "  </tbody>\n",
       "</table>\n",
       "</div>"
      ],
      "text/plain": [
       "                                                Name                    Alias  \\\n",
       "0   Fidelity Retirement Plans and Stock Administr...                 Fidelity   \n",
       "1              4Sight Budgeting and Forecasting Tool                  Unknown   \n",
       "2                        Above Property LAN Services                  Unknown   \n",
       "3                         Accertify - Fraud and Risk                  Unknown   \n",
       "4                            Accessories/Peripherals  Accessories/Peripherals   \n",
       "\n",
       "       Managed by                                  Short Description  \\\n",
       "0   Angela Godwin  This app is the MI Shares program for some of ...   \n",
       "1    Bruce Nguyen                                            Unknown   \n",
       "2         Unknown  Add support services to above-property locatio...   \n",
       "3  Kathleen Ploof                                            Unknown   \n",
       "4   David Sanders                                             LAWSOS   \n",
       "\n",
       "  Environment  \n",
       "0  Production  \n",
       "1  Production  \n",
       "2  Production  \n",
       "3  Production  \n",
       "4  Production  "
      ]
     },
     "execution_count": 8,
     "metadata": {},
     "output_type": "execute_result"
    }
   ],
   "source": [
    "filtered_df.info()  # Get a summary of the data, including column types and non-null counts\n",
    "filtered_df.describe()  # Get statistical summaries of numeric columns\n",
    "# Display the first few rows to ensure it's loaded correctly\n",
    "filtered_df.head()"
   ]
  },
  {
   "cell_type": "code",
   "execution_count": 9,
   "id": "c1794878-61fb-4166-a453-aa2332115060",
   "metadata": {},
   "outputs": [
    {
     "name": "stderr",
     "output_type": "stream",
     "text": [
      "No model was supplied, defaulted to distilbert/distilbert-base-cased-distilled-squad and revision 564e9b5 (https://huggingface.co/distilbert/distilbert-base-cased-distilled-squad).\n",
      "Using a pipeline without specifying a model name and revision in production is not recommended.\n",
      "Device set to use mps:0\n"
     ]
    }
   ],
   "source": [
    "from transformers import pipeline\n",
    "\n",
    "# Load the question-answering pipeline with a pre-trained model\n",
    "qa_pipeline = pipeline(\"question-answering\")\n",
    "\n",
    "# Let's say your Excel data is converted into a string (you can concatenate rows)\n",
    "data_string = filtered_df.to_string(index=False)  # Convert DataFrame to a string\n",
    "\n",
    "def query_with_model(query):\n",
    "    result = qa_pipeline({\n",
    "        'context': data_string,\n",
    "        'question': query\n",
    "    })\n",
    "    return result['answer']\n",
    "\n"
   ]
  },
  {
   "cell_type": "code",
   "execution_count": 10,
   "id": "bd637834-a69b-4866-87e4-2405bd6e5ad2",
   "metadata": {},
   "outputs": [
    {
     "name": "stderr",
     "output_type": "stream",
     "text": [
      "/Users/mrohi233/marriott/python_projects/mlenv/lib/python3.9/site-packages/transformers/pipelines/question_answering.py:390: FutureWarning: Passing a list of SQuAD examples to the pipeline is deprecated and will be removed in v5. Inputs should be passed using the `question` and `context` keyword arguments instead.\n",
      "  warnings.warn(\n"
     ]
    },
    {
     "name": "stdout",
     "output_type": "stream",
     "text": [
      "Marriott\n"
     ]
    }
   ],
   "source": [
    "\n",
    "# Example query\n",
    "query = \"Who manages Adaco?\"\n",
    "response = query_with_model(query)\n",
    "print(response)"
   ]
  },
  {
   "cell_type": "code",
   "execution_count": null,
   "id": "5dd39590-7f18-441d-9ddf-ad46f9997a46",
   "metadata": {},
   "outputs": [],
   "source": []
  }
 ],
 "metadata": {
  "kernelspec": {
   "display_name": "Python 3 (ipykernel)",
   "language": "python",
   "name": "python3"
  },
  "language_info": {
   "codemirror_mode": {
    "name": "ipython",
    "version": 3
   },
   "file_extension": ".py",
   "mimetype": "text/x-python",
   "name": "python",
   "nbconvert_exporter": "python",
   "pygments_lexer": "ipython3",
   "version": "3.9.6"
  }
 },
 "nbformat": 4,
 "nbformat_minor": 5
}
